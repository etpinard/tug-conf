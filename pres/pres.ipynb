{
 "metadata": {
  "name": "",
  "signature": "sha256:b0787026cd2ace41eb5eabd2b98dbaf37ab691a06f688bb25a136c708cbc0d35"
 },
 "nbformat": 3,
 "nbformat_minor": 0,
 "worksheets": [
  {
   "cells": [
    {
     "cell_type": "code",
     "collapsed": false,
     "input": [
      "%run talktools"
     ],
     "language": "python",
     "metadata": {
      "slideshow": {
       "slide_type": "skip"
      }
     },
     "outputs": [
      {
       "html": [
        "<style>\n",
        "\n",
        ".rendered_html\n",
        "{\n",
        "  color: #2C5494;\n",
        "  font-family: Ubuntu;\n",
        "  font-size: 160%;\n",
        "  line-height: 1.1;\n",
        "  margin: 0.5em 0;\n",
        "  }\n",
        "\n",
        ".rendered_html h1\n",
        "{\n",
        "  color: #498AF3;\n",
        "  line-height: 1.5; \n",
        "  page-break-before: always;\n",
        "  text-align: center;\n",
        "  font-size: 300%;\n",
        "}\n",
        "\n",
        ".rendered_html h1:first-child \n",
        "{\n",
        "  margin-top: 100px;\n",
        "  margin-bottom: 50px;\n",
        "}\n",
        "\n",
        ".rendered_html h2\n",
        "{ \n",
        "  color: #386BBC;\n",
        "  line-height: 1.2;\n",
        "  margin: 1.1em 0em 0.5em;\n",
        "  font-size: 250%;\n",
        "}\n",
        ".rendered_html h2:first-child {\n",
        "  margin-top: 10px;\n",
        "  margin-bottom: 20px;\n",
        "}\n",
        ".rendered_html h3\n",
        "{ \n",
        "  color: #386BBC;\n",
        "  font-size: 150%;\n",
        "  line-height: 1.2;\n",
        "  margin: 1.1em 0em 0.5em;\n",
        "  }\n",
        "\n",
        ".rendered_html li\n",
        "{\n",
        "  line-height: 1.8;\n",
        "  }\n",
        "\n",
        ".input_prompt, .CodeMirror-lines, .output_area\n",
        "{\n",
        "  font-family: Consolas;\n",
        "  font-size: 120%;\n",
        "  margin: 0 auto;\n",
        "  }\n",
        ".output_subarea\n",
        "{\n",
        "  overflow-y: scroll;\n",
        "  max-height: 500px;\n",
        "}\n",
        ".output_subarea.output_html\n",
        "{\n",
        "  overflow-y: auto;\n",
        "  max-height: none;\n",
        "  margin: auto;\n",
        "}\n",
        ".prompt \n",
        "{\n",
        "    display: None;\n",
        "}\n",
        ".gap-above\n",
        "{\n",
        "  padding-top: 200px;\n",
        "  }\n",
        "\n",
        ".gap01\n",
        "{\n",
        "  padding-top: 10px;\n",
        "  }\n",
        "\n",
        ".gap05\n",
        "{\n",
        "  padding-top: 50px;\n",
        "  }\n",
        "\n",
        ".gap1\n",
        "{\n",
        "  padding-top: 100px;\n",
        "  }\n",
        "\n",
        ".gap2\n",
        "{\n",
        "  padding-top: 200px;\n",
        "  }\n",
        "\n",
        ".gap3\n",
        "{\n",
        "  padding-top: 300px;\n",
        "  }\n",
        "\n",
        ".emph\n",
        "{\n",
        "  color: #386BBC;\n",
        "  }\n",
        "\n",
        ".warn\n",
        "{\n",
        "  color: red;\n",
        "  }\n",
        "\n",
        ".center\n",
        "{\n",
        "  text-align: center;\n",
        "}\n",
        "\n",
        ".nb_link\n",
        "{\n",
        "  padding-bottom: 0.5em;\n",
        "}\n",
        " iframe::-webkit-scrollbar \n",
        "{  \n",
        "  display: none;\n",
        "}  \n",
        "\n",
        "</style>\n"
       ],
       "metadata": {},
       "output_type": "display_data",
       "text": [
        "<IPython.core.display.HTML at 0x7fd2c4a55510>"
       ]
      }
     ],
     "prompt_number": 1
    },
    {
     "cell_type": "heading",
     "level": 1,
     "metadata": {
      "slideshow": {
       "slide_type": "slide"
      }
     },
     "source": [
      "Plotly<br>\n",
      "collaborative, interactive <br>\n",
      "&nbsp; &nbsp; &nbsp; and online plotting with $\\TeX$"
     ]
    },
    {
     "cell_type": "heading",
     "level": 2,
     "metadata": {
      "slideshow": {
       "slide_type": "slide"
      }
     },
     "source": [
      "What is Plotly?"
     ]
    },
    {
     "cell_type": "markdown",
     "metadata": {
      "slideshow": {
       "slide_type": "fragment"
      }
     },
     "source": [
      "Plotly is an **online** analytics and data visualization tool."
     ]
    },
    {
     "cell_type": "code",
     "collapsed": false,
     "input": [
      "from IPython.display import IFrame\n",
      "\n",
      "IFrame(\"https://plot.ly/~Dreamshot/407\", width=\"900px\", height='500px')"
     ],
     "language": "python",
     "metadata": {
      "slideshow": {
       "slide_type": "fragment"
      }
     },
     "outputs": [
      {
       "html": [
        "\n",
        "        <iframe\n",
        "            width=\"900px\"\n",
        "            height=500px\"\n",
        "            src=\"https://plot.ly/~Dreamshot/407\"\n",
        "            frameborder=\"0\"\n",
        "            allowfullscreen\n",
        "        ></iframe>\n",
        "        "
       ],
       "metadata": {},
       "output_type": "pyout",
       "prompt_number": 2,
       "text": [
        "<IPython.lib.display.IFrame at 0x7fd2c52ad7d0>"
       ]
      }
     ],
     "prompt_number": 2
    },
    {
     "cell_type": "heading",
     "level": 2,
     "metadata": {
      "slideshow": {
       "slide_type": "slide"
      }
     },
     "source": [
      "Why is Plotly at TUG 2014?"
     ]
    },
    {
     "cell_type": "markdown",
     "metadata": {
      "slideshow": {
       "slide_type": "fragment"
      }
     },
     "source": [
      "* You can use $\\TeX$ symbols to annotate Plotly graphs, (using the [MathJax](http://www.mathjax.org/) display engine)"
     ]
    },
    {
     "cell_type": "code",
     "collapsed": false,
     "input": [
      "# from IPython.display import IFrame\n",
      "\n",
      "IFrame(\"https://plot.ly/~PlotBot/3\", width=\"900px\", height='500px')"
     ],
     "language": "python",
     "metadata": {
      "slideshow": {
       "slide_type": "fragment"
      }
     },
     "outputs": [
      {
       "html": [
        "\n",
        "        <iframe\n",
        "            width=\"900px\"\n",
        "            height=500px\"\n",
        "            src=\"https://plot.ly/~PlotBot/3\"\n",
        "            frameborder=\"0\"\n",
        "            allowfullscreen\n",
        "        ></iframe>\n",
        "        "
       ],
       "metadata": {},
       "output_type": "pyout",
       "prompt_number": 3,
       "text": [
        "<IPython.lib.display.IFrame at 0x7fd2c52ad710>"
       ]
      }
     ],
     "prompt_number": 3
    },
    {
     "cell_type": "heading",
     "level": 2,
     "metadata": {
      "slideshow": {
       "slide_type": "slide"
      }
     },
     "source": [
      "But really ... Why is Plotly at TUG 2014?"
     ]
    },
    {
     "cell_type": "heading",
     "level": 4,
     "metadata": {
      "slideshow": {
       "slide_type": "fragment"
      }
     },
     "source": [
      "... Philosophy"
     ]
    },
    {
     "cell_type": "markdown",
     "metadata": {
      "slideshow": {
       "slide_type": "fragment"
      }
     },
     "source": [
      "$\\TeX$ provides a system that gives exactly the same results on all computers\n",
      "\n",
      "* $\\TeX$ is **cross-operating system**"
     ]
    },
    {
     "cell_type": "markdown",
     "metadata": {
      "slideshow": {
       "slide_type": "fragment"
      }
     },
     "source": [
      "$\\TeX$ allows anybody to produce high-quality documents efficiently\n",
      "\n",
      "* $\\TeX$ is a **free** and **cross-text editor** platform"
     ]
    },
    {
     "cell_type": "markdown",
     "metadata": {
      "slideshow": {
       "slide_type": "fragment"
      }
     },
     "source": [
      "Plotly applies the same core principles to graphs\n",
      "\n",
      "* Plotly is **free**, **cross-operating system** and  **cross-scientific computing language**"
     ]
    },
    {
     "cell_type": "heading",
     "level": 3,
     "metadata": {
      "slideshow": {
       "slide_type": "slide"
      }
     },
     "source": [
      "Collaboration in data-intensive fields sometimes feels like this:"
     ]
    },
    {
     "cell_type": "markdown",
     "metadata": {
      "slideshow": {
       "slide_type": "fragment"
      }
     },
     "source": [
      "<img src='https://i.imgur.com/4DrMgLI.png' />"
     ]
    },
    {
     "cell_type": "markdown",
     "metadata": {
      "slideshow": {
       "slide_type": "fragment"
      }
     },
     "source": [
      "Plotly solves this collaboration (i.e. reproducibility) problem:\n",
      "\n",
      "* Plotly graphs are **closely connected to their underlying data** (more later) \n",
      "* Plotly graphs are **stored in the cloud**\n",
      "* Plotly provides a **common graphing platform** for Python, MATLAB, R, Node.js, Julia and Excel users."
     ]
    },
    {
     "cell_type": "heading",
     "level": 3,
     "metadata": {
      "slideshow": {
       "slide_type": "slide"
      }
     },
     "source": [
      "A Plotly graph made in Python"
     ]
    },
    {
     "cell_type": "code",
     "collapsed": false,
     "input": [
      "# from IPython.display import IFrame\n",
      "\n",
      "IFrame(\"https://plot.ly/python/histograms/#Overlaid-Histgram\", width=\"1100px\", height='520px')"
     ],
     "language": "python",
     "metadata": {
      "slideshow": {
       "slide_type": "fragment"
      }
     },
     "outputs": [
      {
       "html": [
        "\n",
        "        <iframe\n",
        "            width=\"1100px\"\n",
        "            height=520px\"\n",
        "            src=\"https://plot.ly/python/histograms/#Overlaid-Histgram\"\n",
        "            frameborder=\"0\"\n",
        "            allowfullscreen\n",
        "        ></iframe>\n",
        "        "
       ],
       "metadata": {},
       "output_type": "pyout",
       "prompt_number": 4,
       "text": [
        "<IPython.lib.display.IFrame at 0x7fd2c52b6fd0>"
       ]
      }
     ],
     "prompt_number": 4
    },
    {
     "cell_type": "heading",
     "level": 3,
     "metadata": {
      "slideshow": {
       "slide_type": "slide"
      }
     },
     "source": [
      "The same Plotly graph, now made in MATLAB"
     ]
    },
    {
     "cell_type": "code",
     "collapsed": false,
     "input": [
      "# from IPython.display import IFrame\n",
      "\n",
      "IFrame(\"https://plot.ly/matlab/histograms/#Overlaid-Histgram\", width=\"1100px\", height='520px')"
     ],
     "language": "python",
     "metadata": {
      "slideshow": {
       "slide_type": "fragment"
      }
     },
     "outputs": [
      {
       "html": [
        "\n",
        "        <iframe\n",
        "            width=\"1100px\"\n",
        "            height=520px\"\n",
        "            src=\"https://plot.ly/matlab/histograms/#Overlaid-Histgram\"\n",
        "            frameborder=\"0\"\n",
        "            allowfullscreen\n",
        "        ></iframe>\n",
        "        "
       ],
       "metadata": {},
       "output_type": "pyout",
       "prompt_number": 5,
       "text": [
        "<IPython.lib.display.IFrame at 0x7fd2c4a55210>"
       ]
      }
     ],
     "prompt_number": 5
    },
    {
     "cell_type": "heading",
     "level": 3,
     "metadata": {
      "slideshow": {
       "slide_type": "slide"
      }
     },
     "source": [
      "... and again the same Plotly graph, now made in R"
     ]
    },
    {
     "cell_type": "code",
     "collapsed": false,
     "input": [
      "# from IPython.display import IFrame\n",
      "\n",
      "IFrame(\"https://plot.ly/r/histograms/#Overlaid-Histgram\", width=\"1100px\", height='520px')"
     ],
     "language": "python",
     "metadata": {
      "slideshow": {
       "slide_type": "fragment"
      }
     },
     "outputs": [
      {
       "html": [
        "\n",
        "        <iframe\n",
        "            width=\"1100px\"\n",
        "            height=520px\"\n",
        "            src=\"https://plot.ly/r/histograms/#Overlaid-Histgram\"\n",
        "            frameborder=\"0\"\n",
        "            allowfullscreen\n",
        "        ></iframe>\n",
        "        "
       ],
       "metadata": {},
       "output_type": "pyout",
       "prompt_number": 6,
       "text": [
        "<IPython.lib.display.IFrame at 0x7fd2c52adc50>"
       ]
      }
     ],
     "prompt_number": 6
    },
    {
     "cell_type": "heading",
     "level": 3,
     "metadata": {
      "slideshow": {
       "slide_type": "slide"
      }
     },
     "source": [
      "What if I already have plot-generating code written?"
     ]
    },
    {
     "cell_type": "markdown",
     "metadata": {
      "slideshow": {
       "slide_type": "fragment"
      }
     },
     "source": [
      "That's OK.\n",
      "\n",
      "Our libraries come with **figure converters** allowing \n",
      "\n",
      "* [MATLAB](https://plot.ly/matlab/),\n",
      "* [matplotlib](https://plot.ly/matplotlib/) and \n",
      "* [ggplot2](https://plot.ly/ggplot2/)\n",
      "\n",
      "figures to be converted to Plotly figures with one line of code!"
     ]
    },
    {
     "cell_type": "code",
     "collapsed": false,
     "input": [
      "# from IPython.display import IFrame\n",
      "\n",
      "IFrame(\"https://plot.ly/matplotlib/\", width=\"1100px\", height='520px')"
     ],
     "language": "python",
     "metadata": {
      "slideshow": {
       "slide_type": "fragment"
      }
     },
     "outputs": [
      {
       "html": [
        "\n",
        "        <iframe\n",
        "            width=\"1100px\"\n",
        "            height=520px\"\n",
        "            src=\"https://plot.ly/matplotlib/\"\n",
        "            frameborder=\"0\"\n",
        "            allowfullscreen\n",
        "        ></iframe>\n",
        "        "
       ],
       "metadata": {},
       "output_type": "pyout",
       "prompt_number": 7,
       "text": [
        "<IPython.lib.display.IFrame at 0x7fd2c4a55250>"
       ]
      }
     ],
     "prompt_number": 7
    },
    {
     "cell_type": "heading",
     "level": 3,
     "metadata": {
      "slideshow": {
       "slide_type": "slide"
      }
     },
     "source": [
      "How to make Plotly graph using our web app"
     ]
    },
    {
     "cell_type": "markdown",
     "metadata": {
      "slideshow": {
       "slide_type": "fragment"
      }
     },
     "source": [
      "* Have some [data](http://en.wikipedia.org/wiki/Portland,_Oregon#Demographics) to plot"
     ]
    },
    {
     "cell_type": "markdown",
     "metadata": {
      "slideshow": {
       "slide_type": "fragment"
      }
     },
     "source": [
      "* Go to [plot.ly](https://plot.ly)"
     ]
    },
    {
     "cell_type": "heading",
     "level": 3,
     "metadata": {
      "slideshow": {
       "slide_type": "slide"
      }
     },
     "source": [
      "Plotly rhymes with collaboration and reproducibility "
     ]
    },
    {
     "cell_type": "markdown",
     "metadata": {
      "slideshow": {
       "slide_type": "fragment"
      }
     },
     "source": [
      "Plotly allows you to **retrieve** a figure's underlying JSON object!\n",
      "\n",
      "For example, in Python:"
     ]
    },
    {
     "cell_type": "code",
     "collapsed": false,
     "input": [
      "import plotly.plotly as py\n",
      "\n",
      "fig = py.get_figure(\"https://plot.ly/~etpinard/448\")\n",
      "\n",
      "fig"
     ],
     "language": "python",
     "metadata": {
      "slideshow": {
       "slide_type": "fragment"
      }
     },
     "outputs": [
      {
       "metadata": {},
       "output_type": "pyout",
       "prompt_number": 8,
       "text": [
        "{'data': [{'name': u'Pop.',\n",
        "   'type': u'scatter',\n",
        "   'x': [u'1860',\n",
        "    u'1870',\n",
        "    u'1880',\n",
        "    u'1890',\n",
        "    u'1900',\n",
        "    u'1910',\n",
        "    u'1920',\n",
        "    u'1930',\n",
        "    u'1940',\n",
        "    u'1950',\n",
        "    u'1960',\n",
        "    u'1970',\n",
        "    u'1980',\n",
        "    u'1990',\n",
        "    u'2000',\n",
        "    u'2010',\n",
        "    u'2013'],\n",
        "   'y': [u'2,874',\n",
        "    u'8,293',\n",
        "    u'17,577',\n",
        "    u'46,385',\n",
        "    u'90,426',\n",
        "    u'207,214',\n",
        "    u'258,288',\n",
        "    u'301,815',\n",
        "    u'305,394',\n",
        "    u'373,628',\n",
        "    u'372,676',\n",
        "    u'382,619',\n",
        "    u'366,383',\n",
        "    u'437,319',\n",
        "    u'529,121',\n",
        "    u'583,776',\n",
        "    u'609,456']},\n",
        "  {'line': {'color': u'rgb(255, 127, 14)', 'dash': u'solid', 'width': 6},\n",
        "   'name': u'Pop. - fit',\n",
        "   'opacity': 0.5,\n",
        "   'type': u'scatter',\n",
        "   'x': [1860,\n",
        "    1863.1224489795918,\n",
        "    1866.2448979591836,\n",
        "    1869.3673469387754,\n",
        "    1872.4897959183672,\n",
        "    1875.6122448979593,\n",
        "    1878.734693877551,\n",
        "    1881.857142857143,\n",
        "    1884.9795918367347,\n",
        "    1888.1020408163265,\n",
        "    1891.2244897959183,\n",
        "    1894.3469387755101,\n",
        "    1897.469387755102,\n",
        "    1900.591836734694,\n",
        "    1903.7142857142858,\n",
        "    1906.8367346938776,\n",
        "    1909.9591836734694,\n",
        "    1913.0816326530612,\n",
        "    1916.204081632653,\n",
        "    1919.3265306122448,\n",
        "    1922.4489795918366,\n",
        "    1925.5714285714287,\n",
        "    1928.6938775510205,\n",
        "    1931.8163265306123,\n",
        "    1934.938775510204,\n",
        "    1938.061224489796,\n",
        "    1941.1836734693877,\n",
        "    1944.3061224489795,\n",
        "    1947.4285714285713,\n",
        "    1950.5510204081634,\n",
        "    1953.6734693877552,\n",
        "    1956.795918367347,\n",
        "    1959.9183673469388,\n",
        "    1963.0408163265306,\n",
        "    1966.1632653061224,\n",
        "    1969.2857142857142,\n",
        "    1972.408163265306,\n",
        "    1975.530612244898,\n",
        "    1978.6530612244899,\n",
        "    1981.7755102040817,\n",
        "    1984.8979591836735,\n",
        "    1988.0204081632653,\n",
        "    1991.142857142857,\n",
        "    1994.265306122449,\n",
        "    1997.3877551020407,\n",
        "    2000.5102040816328,\n",
        "    2003.6326530612246,\n",
        "    2006.7551020408164,\n",
        "    2009.8775510204082,\n",
        "    2013],\n",
        "   'xaxis': u'x',\n",
        "   'y': [-24905.93916280754,\n",
        "    -12636.203280905262,\n",
        "    -366.4673990039155,\n",
        "    11903.268482898362,\n",
        "    24173.00436480064,\n",
        "    36442.74024670292,\n",
        "    48712.476128605194,\n",
        "    60982.21201050747,\n",
        "    73251.94789240882,\n",
        "    85521.6837743111,\n",
        "    97791.41965621337,\n",
        "    110061.15553811472,\n",
        "    122330.891420017,\n",
        "    134600.6273019202,\n",
        "    146870.36318382155,\n",
        "    159140.09906572383,\n",
        "    171409.8349476261,\n",
        "    183679.57082952745,\n",
        "    195949.30671142973,\n",
        "    208219.042593332,\n",
        "    220488.77847523335,\n",
        "    232758.51435713656,\n",
        "    245028.25023903884,\n",
        "    257297.9861209402,\n",
        "    269567.72200284246,\n",
        "    281837.45788474474,\n",
        "    294107.1937666461,\n",
        "    306376.92964854836,\n",
        "    318646.66553045064,\n",
        "    330916.4014123529,\n",
        "    343186.1372942552,\n",
        "    355455.8731761575,\n",
        "    367725.6090580588,\n",
        "    379995.3449399611,\n",
        "    392265.0808218634,\n",
        "    404534.81670376565,\n",
        "    416804.552585667,\n",
        "    429074.2884675702,\n",
        "    441344.0243494725,\n",
        "    453613.76023137383,\n",
        "    465883.4961132761,\n",
        "    478153.2319951784,\n",
        "    490422.96787707973,\n",
        "    502692.703758982,\n",
        "    514962.4396408843,\n",
        "    527232.1755227866,\n",
        "    539501.9114046888,\n",
        "    551771.6472865911,\n",
        "    564041.3831684925,\n",
        "    576311.1190503947],\n",
        "   'yaxis': u'y'}],\n",
        " 'layout': {'annotations': [{'align': u'left',\n",
        "    'arrowcolor': u'#636363',\n",
        "    'arrowhead': 2,\n",
        "    'arrowsize': 1,\n",
        "    'arrowwidth': 2,\n",
        "    'ax': -265,\n",
        "    'ay': -112,\n",
        "    'bgcolor': u'rgba(0,0,0,0)',\n",
        "    'bordercolor': u'',\n",
        "    'borderpad': 1,\n",
        "    'borderwidth': 1,\n",
        "    'font': {'size': 28},\n",
        "    'opacity': 0.8,\n",
        "    'showarrow': True,\n",
        "    'text': u'$R^2 = 0.960 \\\\\\\\ y   = -7.33\\\\times10^6 + 3.93\\\\times10^3 x$',\n",
        "    'textangle': 0,\n",
        "    'x': 1933.706238213492,\n",
        "    'xanchor': u'auto',\n",
        "    'xref': u'x',\n",
        "    'y': 262636.0070362699,\n",
        "    'yanchor': u'auto',\n",
        "    'yref': u'y'}],\n",
        "  'autosize': True,\n",
        "  'bargap': 0.2,\n",
        "  'bargroupgap': 0,\n",
        "  'barmode': u'group',\n",
        "  'boxmode': u'overlay',\n",
        "  'dragmode': u'zoom',\n",
        "  'font': {'color': u'#444',\n",
        "   'family': u'\"Open sans\", verdana, arial, sans-serif',\n",
        "   'size': 12},\n",
        "  'height': 474,\n",
        "  'hidesources': False,\n",
        "  'hovermode': u'x',\n",
        "  'legend': {'bgcolor': u'#fff',\n",
        "   'bordercolor': u'#444',\n",
        "   'borderwidth': 0,\n",
        "   'font': {'color': u'', 'family': u'', 'size': 0},\n",
        "   'traceorder': u'normal',\n",
        "   'x': 1.02,\n",
        "   'xanchor': u'left',\n",
        "   'y': 1,\n",
        "   'yanchor': u'top'},\n",
        "  'margin': {'autoexpand': True,\n",
        "   'b': 80,\n",
        "   'l': 80,\n",
        "   'pad': 0,\n",
        "   'r': 80,\n",
        "   't': 100},\n",
        "  'paper_bgcolor': u'#fff',\n",
        "  'plot_bgcolor': u'#fff',\n",
        "  'separators': u'.,',\n",
        "  'showlegend': True,\n",
        "  'title': u\"Portland's Pop\",\n",
        "  'titlefont': {'color': u'', 'family': u'', 'size': 0},\n",
        "  'width': 1297,\n",
        "  'xaxis': {'anchor': u'y',\n",
        "   'autorange': True,\n",
        "   'autotick': True,\n",
        "   'domain': [0, 1],\n",
        "   'dtick': 20,\n",
        "   'exponentformat': u'B',\n",
        "   'gridcolor': u'#eee',\n",
        "   'gridwidth': 1,\n",
        "   'linecolor': u'#444',\n",
        "   'linewidth': 1,\n",
        "   'mirror': False,\n",
        "   'nticks': 0,\n",
        "   'overlaying': False,\n",
        "   'position': 0,\n",
        "   'range': [1851.5, 2021.5],\n",
        "   'rangemode': u'normal',\n",
        "   'showexponent': u'all',\n",
        "   'showgrid': True,\n",
        "   'showline': False,\n",
        "   'showticklabels': True,\n",
        "   'tick0': 0,\n",
        "   'tickangle': u'auto',\n",
        "   'tickcolor': u'#444',\n",
        "   'tickfont': {'color': u'', 'family': u'', 'size': 0},\n",
        "   'ticklen': 5,\n",
        "   'ticks': u'',\n",
        "   'tickwidth': 1,\n",
        "   'title': u'Census',\n",
        "   'titlefont': {'color': u'', 'family': u'', 'size': 0},\n",
        "   'type': u'linear',\n",
        "   'zeroline': True,\n",
        "   'zerolinecolor': u'#444',\n",
        "   'zerolinewidth': 1},\n",
        "  'yaxis': {'anchor': u'x',\n",
        "   'autorange': True,\n",
        "   'autotick': True,\n",
        "   'domain': [0, 1],\n",
        "   'dtick': 100000,\n",
        "   'exponentformat': u'B',\n",
        "   'gridcolor': u'#eee',\n",
        "   'gridwidth': 1,\n",
        "   'linecolor': u'#444',\n",
        "   'linewidth': 1,\n",
        "   'mirror': False,\n",
        "   'nticks': 0,\n",
        "   'overlaying': False,\n",
        "   'position': 0,\n",
        "   'range': [-60148.26911629685, 644698.3299534894],\n",
        "   'rangemode': u'normal',\n",
        "   'showexponent': u'all',\n",
        "   'showgrid': True,\n",
        "   'showline': False,\n",
        "   'showticklabels': True,\n",
        "   'tick0': 0,\n",
        "   'tickangle': u'auto',\n",
        "   'tickcolor': u'#444',\n",
        "   'tickfont': {'color': u'', 'family': u'', 'size': 0},\n",
        "   'ticklen': 5,\n",
        "   'ticks': u'',\n",
        "   'tickwidth': 1,\n",
        "   'title': u'Pop.',\n",
        "   'titlefont': {'color': u'', 'family': u'', 'size': 0},\n",
        "   'type': u'-',\n",
        "   'zeroline': True,\n",
        "   'zerolinecolor': u'#444',\n",
        "   'zerolinewidth': 1}}}"
       ]
      }
     ],
     "prompt_number": 8
    },
    {
     "cell_type": "heading",
     "level": 3,
     "metadata": {
      "slideshow": {
       "slide_type": "slide"
      }
     },
     "source": [
      "Remake this plot, with a few modifications"
     ]
    },
    {
     "cell_type": "code",
     "collapsed": false,
     "input": [
      "import plotly.plotly as py\n",
      "fig = py.get_figure(\"https://plot.ly/~etpinard/448\")  # as in last slide\n",
      "\n",
      "# Modify the title\n",
      "fig['layout'].update(title=\"The Historical Population of Portland, OR\")\n",
      "\n",
      "# Modify the y-axis label\n",
      "fig['layout']['yaxis'].update(title=\"Population\")\n",
      "\n",
      "# Plots the data with marker points (not line)\n",
      "fig['data'][0].update(mode='markers')\n",
      "\n",
      "\n",
      "# Re-generate plot, get a unique URL\n",
      "py.plot(fig, filename=\"tug-conf-ex\")"
     ],
     "language": "python",
     "metadata": {
      "slideshow": {
       "slide_type": "fragment"
      }
     },
     "outputs": [
      {
       "metadata": {},
       "output_type": "pyout",
       "prompt_number": 9,
       "text": [
        "u'https://plot.ly/~etpinard/449'"
       ]
      }
     ],
     "prompt_number": 9
    },
    {
     "cell_type": "markdown",
     "metadata": {
      "slideshow": {
       "slide_type": "fragment"
      }
     },
     "source": [
      "Go to plot's URL  (or use `py.iplot()` to embed plot in IPython notebook) "
     ]
    },
    {
     "cell_type": "heading",
     "level": 2,
     "metadata": {
      "slideshow": {
       "slide_type": "slide"
      }
     },
     "source": [
      "Moreover, Plotly "
     ]
    },
    {
     "cell_type": "markdown",
     "metadata": {
      "slideshow": {
       "slide_type": "fragment"
      }
     },
     "source": [
      "* is also a social network (with a twitter-like *feed* of figures and [commenting](https://plot.ly/~etpinard/25) on each graphs)\n",
      "* allows users to make *private* figures (kind of like github, see our [plans](https://plot.ly/plans))\n",
      "* allows users to make *streaming* plots (e.g. a never-ending double pendulum simulation: [graph](https://plot.ly/~streaming-demos/4) and [code](http://nbviewer.ipython.org/github/plotly/python-user-guide/blob/master/s7_streaming/s7_streaming_p2-double-pendulum.ipynb))\n",
      "* is developing of Open Source Libraries (e.g [Python](https://github.com/plotly/python-api), [MATLAB](https://github.com/plotly/matlab-api), [R](https://github.com/ropensci/plotly))"
     ]
    },
    {
     "cell_type": "heading",
     "level": 4,
     "metadata": {
      "slideshow": {
       "slide_type": "fragment"
      }
     },
     "source": [
      "Thank you."
     ]
    }
   ],
   "metadata": {}
  }
 ]
}