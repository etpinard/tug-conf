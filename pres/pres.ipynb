{
 "metadata": {
  "celltoolbar": "Slideshow",
  "name": "",
  "signature": "sha256:3b4045a245ed60abffed79cd7a1f49e23ced13f9a0728dfd0c901cea11ffcff7"
 },
 "nbformat": 3,
 "nbformat_minor": 0,
 "worksheets": [
  {
   "cells": [
    {
     "cell_type": "heading",
     "level": 1,
     "metadata": {
      "slideshow": {
       "slide_type": "slide"
      }
     },
     "source": [
      "Plotly: collaborative, interactive, <br>\n",
      "and online plotting with $\\TeX$"
     ]
    },
    {
     "cell_type": "heading",
     "level": 1,
     "metadata": {
      "slideshow": {
       "slide_type": "slide"
      }
     },
     "source": [
      "What is Plotly?"
     ]
    },
    {
     "cell_type": "markdown",
     "metadata": {
      "slideshow": {
       "slide_type": "fragment"
      }
     },
     "source": [
      "Plotly is an **online** analytics and data visualization tool."
     ]
    },
    {
     "cell_type": "code",
     "collapsed": false,
     "input": [
      "%run talktools"
     ],
     "language": "python",
     "metadata": {
      "slideshow": {
       "slide_type": "skip"
      }
     },
     "outputs": [
      {
       "html": [
        "<style>\n",
        "\n",
        ".rendered_html\n",
        "{\n",
        "  color: #2C5494;\n",
        "  font-family: Ubuntu;\n",
        "  font-size: 140%;\n",
        "  line-height: 1.1;\n",
        "  margin: 0.5em 0;\n",
        "  }\n",
        "\n",
        ".title\n",
        "{\n",
        "  color: #498AF3;\n",
        "  font-size: 250%;\n",
        "  font-weight:bold;\n",
        "  line-height: 1.2; \n",
        "  margin: 10px 50px 10px;\n",
        "  }\n",
        "\n",
        ".subtitle\n",
        "{\n",
        "  color: #386BBC;\n",
        "  font-size: 180%;\n",
        "  font-weight:bold;\n",
        "  line-height: 1.2; \n",
        "  margin: 20px 50px 20px;\n",
        "  }\n",
        "\n",
        ".slide-header, p.slide-header\n",
        "{\n",
        "  color: #498AF3;\n",
        "  font-size: 200%;\n",
        "  font-weight:bold;\n",
        "  margin: 0px 20px 10px;\n",
        "  page-break-before: always;\n",
        "  text-align: center;\n",
        "  }\n",
        "\n",
        ".rendered_html h1\n",
        "{\n",
        "  color: #498AF3;\n",
        "  line-height: 1.2; \n",
        "  margin: 0.15em 0em 0.5em;\n",
        "  page-break-before: always;\n",
        "  text-align: center;\n",
        "  }\n",
        "\n",
        "\n",
        ".rendered_html h2\n",
        "{ \n",
        "  color: #386BBC;\n",
        "  line-height: 1.2;\n",
        "  margin: 1.1em 0em 0.5em;\n",
        "  }\n",
        "\n",
        ".rendered_html h3\n",
        "{ \n",
        "  font-size: 100%;\n",
        "  line-height: 1.2;\n",
        "  margin: 1.1em 0em 0.5em;\n",
        "  }\n",
        "\n",
        ".rendered_html li\n",
        "{\n",
        "  line-height: 1.8;\n",
        "  }\n",
        "\n",
        ".input_prompt, .CodeMirror-lines, .output_area\n",
        "{\n",
        "  font-family: Consolas;\n",
        "  font-size: 120%;\n",
        "  }\n",
        "\n",
        ".gap-above\n",
        "{\n",
        "  padding-top: 200px;\n",
        "  }\n",
        "\n",
        ".gap01\n",
        "{\n",
        "  padding-top: 10px;\n",
        "  }\n",
        "\n",
        ".gap05\n",
        "{\n",
        "  padding-top: 50px;\n",
        "  }\n",
        "\n",
        ".gap1\n",
        "{\n",
        "  padding-top: 100px;\n",
        "  }\n",
        "\n",
        ".gap2\n",
        "{\n",
        "  padding-top: 200px;\n",
        "  }\n",
        "\n",
        ".gap3\n",
        "{\n",
        "  padding-top: 300px;\n",
        "  }\n",
        "\n",
        ".emph\n",
        "{\n",
        "  color: #386BBC;\n",
        "  }\n",
        "\n",
        ".warn\n",
        "{\n",
        "  color: red;\n",
        "  }\n",
        "\n",
        ".center\n",
        "{\n",
        "  text-align: center;\n",
        "  }\n",
        "\n",
        ".nb_link\n",
        "{\n",
        "    padding-bottom: 0.5em;\n",
        "}\n",
        "\n",
        "</style>\n"
       ],
       "metadata": {},
       "output_type": "display_data",
       "text": [
        "<IPython.core.display.HTML at 0x7f846c06e650>"
       ]
      }
     ],
     "prompt_number": 1
    },
    {
     "cell_type": "code",
     "collapsed": false,
     "input": [
      "#website(\"https://plot.ly/~Dreamshot/407\")"
     ],
     "language": "python",
     "metadata": {
      "slideshow": {
       "slide_type": "fragment"
      }
     },
     "outputs": [],
     "prompt_number": 2
    },
    {
     "cell_type": "heading",
     "level": 1,
     "metadata": {
      "slideshow": {
       "slide_type": "slide"
      }
     },
     "source": [
      "Why is Plotly at TUG 2014?"
     ]
    },
    {
     "cell_type": "markdown",
     "metadata": {
      "slideshow": {
       "slide_type": "fragment"
      }
     },
     "source": [
      "* You can use $\\TeX$ symbols to annotate Plotly graphs, (using the [MathJax](http://www.mathjax.org/) display engine)"
     ]
    },
    {
     "cell_type": "markdown",
     "metadata": {
      "slideshow": {
       "slide_type": "fragment"
      }
     },
     "source": [
      "* Philosophy"
     ]
    },
    {
     "cell_type": "heading",
     "level": 1,
     "metadata": {
      "slideshow": {
       "slide_type": "subslide"
      }
     },
     "source": [
      "Plotly and the $\\TeX$ Philosophy "
     ]
    },
    {
     "cell_type": "markdown",
     "metadata": {
      "slideshow": {
       "slide_type": "fragment"
      }
     },
     "source": [
      "$\\TeX$ allows anybody to produce high-quality documents efficiently\n",
      "\n",
      "* $\\TeX$ is a **free** and **cross-text editor** platform"
     ]
    },
    {
     "cell_type": "markdown",
     "metadata": {
      "slideshow": {
       "slide_type": "fragment"
      }
     },
     "source": [
      "$\\TeX$ provides a system that gives exactly the same results on all computers\n",
      "\n",
      "* $\\TeX$ is **cross-operating system**"
     ]
    },
    {
     "cell_type": "markdown",
     "metadata": {
      "slideshow": {
       "slide_type": "fragment"
      }
     },
     "source": [
      "Plotly applies the same core principles to graphs.\n",
      "\n",
      "* Plotly is **free**, **cross-scientific computing language** and **cross-operating system**"
     ]
    },
    {
     "cell_type": "heading",
     "level": 3,
     "metadata": {
      "slideshow": {
       "slide_type": "slide"
      }
     },
     "source": [
      "Collaboration, data analysis, and data visualization sometimes feels like this:"
     ]
    },
    {
     "cell_type": "markdown",
     "metadata": {
      "slideshow": {
       "slide_type": "fragment"
      }
     },
     "source": [
      "<img src='https://i.imgur.com/4DrMgLI.png' />"
     ]
    },
    {
     "cell_type": "markdown",
     "metadata": {
      "slideshow": {
       "slide_type": "subslide"
      }
     },
     "source": [
      "Plotly solves fragmentation and collaboration problem in data analysis.\n",
      "\n",
      "Plotly provides a common plotting platform for (currently) Excel, Python, MATLAB, R, Node.js and Julia users."
     ]
    },
    {
     "cell_type": "heading",
     "level": 1,
     "metadata": {
      "slideshow": {
       "slide_type": "slide"
      }
     },
     "source": [
      "How to make Plotly graph using our web app"
     ]
    },
    {
     "cell_type": "markdown",
     "metadata": {
      "slideshow": {
       "slide_type": "fragment"
      }
     },
     "source": [
      "Go to [plot.ly](https://plot.ly)"
     ]
    },
    {
     "cell_type": "heading",
     "level": 1,
     "metadata": {
      "slideshow": {
       "slide_type": "slide"
      }
     },
     "source": [
      "The Plotly advantage"
     ]
    },
    {
     "cell_type": "heading",
     "level": 3,
     "metadata": {
      "slideshow": {
       "slide_type": "fragment"
      }
     },
     "source": [
      "For example, in Python (after downloading our Python Package)"
     ]
    },
    {
     "cell_type": "code",
     "collapsed": false,
     "input": [
      "import plotly.plotly as py\n",
      "\n",
      "fig = py.get_figure(\"https://plot.ly/~Dreamshot/407\")\n",
      "\n",
      "print fig.to_string()"
     ],
     "language": "python",
     "metadata": {
      "slideshow": {
       "slide_type": "fragment"
      }
     },
     "outputs": [
      {
       "output_type": "stream",
       "stream": "stdout",
       "text": [
        "Figure(\n",
        "    data=Data([\n",
        "        Bar(\n",
        "            x=[u'30', u'31', u'32', u'33', u'34', u'35', u'36', u'37', u'38...],\n",
        "            y=[u'0', u'2', u'0', u'0', u'1', u'0', u'0', u'0', u'0', u'4', ...],\n",
        "            name=u'Frequency',\n",
        "            marker=Marker(\n",
        "                color=u'rgb(132, 202, 255)',\n",
        "                line=Line(\n",
        "                    width=0.5\n",
        "                )\n",
        "            )\n",
        "        ),\n",
        "        Scatter(\n",
        "            x=[30, 31.244897959183675, 32.48979591836735, 33.73469387755102...],\n",
        "            y=[0.22769700795537956, 0.2833137880554925, 0.3569143150417924,...],\n",
        "            name=u'Gaussian Fit',\n",
        "            line=Line(\n",
        "                color=u'rgb(74, 134, 232)',\n",
        "                width=2\n",
        "            ),\n",
        "            opacity=1,\n",
        "            xaxis=u'x',\n",
        "            yaxis=u'y'\n",
        "        )\n",
        "    ]),\n",
        "    layout=Layout(\n",
        "        title=u'<br>Ages of International Heads of Governments as of April 2014',\n",
        "        titlefont=Font(\n",
        "            family=u'',\n",
        "            size=0,\n",
        "            color=u''\n",
        "        ),\n",
        "        font=Font(\n",
        "            family=u'Raleway, sans-serif',\n",
        "            size=12,\n",
        "            color=u'#444'\n",
        "        ),\n",
        "        showlegend=False,\n",
        "        autosize=False,\n",
        "        width=800,\n",
        "        height=450,\n",
        "        xaxis=XAxis(\n",
        "            title=u'Age',\n",
        "            titlefont=Font(\n",
        "                family=u'',\n",
        "                size=0,\n",
        "                color=u''\n",
        "            ),\n",
        "            range=[29.5, 91.5],\n",
        "            domain=[0, 1],\n",
        "            type=u'linear',\n",
        "            rangemode=u'nonnegative',\n",
        "            autorange=True,\n",
        "            showgrid=False,\n",
        "            zeroline=False,\n",
        "            showline=False,\n",
        "            autotick=True,\n",
        "            nticks=14,\n",
        "            ticks=u'',\n",
        "            showticklabels=True,\n",
        "            tick0=0,\n",
        "            dtick=5,\n",
        "            ticklen=5,\n",
        "            tickwidth=1,\n",
        "            tickcolor=u'#444',\n",
        "            tickangle=u'auto',\n",
        "            tickfont=Font(\n",
        "                family=u'',\n",
        "                size=0,\n",
        "                color=u''\n",
        "            ),\n",
        "            exponentformat=u'B',\n",
        "            showexponent=u'all',\n",
        "            mirror=False,\n",
        "            gridcolor=u'#eee',\n",
        "            gridwidth=1,\n",
        "            zerolinecolor=u'#444',\n",
        "            zerolinewidth=1,\n",
        "            linecolor=u'#444',\n",
        "            linewidth=1,\n",
        "            anchor=u'y',\n",
        "            overlaying=False,\n",
        "            position=0\n",
        "        ),\n",
        "        yaxis=YAxis(\n",
        "            title=u'Frequency',\n",
        "            titlefont=Font(\n",
        "                family=u'',\n",
        "                size=0,\n",
        "                color=u''\n",
        "            ),\n",
        "            range=[-0.05, 13.68421052631579],\n",
        "            domain=[0, 1],\n",
        "            type=u'linear',\n",
        "            rangemode=u'nonnegative',\n",
        "            autorange=False,\n",
        "            showgrid=True,\n",
        "            zeroline=True,\n",
        "            showline=False,\n",
        "            autotick=True,\n",
        "            nticks=0,\n",
        "            ticks=u'',\n",
        "            showticklabels=True,\n",
        "            tick0=0,\n",
        "            dtick=2,\n",
        "            ticklen=5,\n",
        "            tickwidth=1,\n",
        "            tickcolor=u'#444',\n",
        "            tickangle=u'auto',\n",
        "            tickfont=Font(\n",
        "                family=u'',\n",
        "                size=0,\n",
        "                color=u''\n",
        "            ),\n",
        "            exponentformat=u'B',\n",
        "            showexponent=u'all',\n",
        "            mirror=False,\n",
        "            gridcolor=u'#eee',\n",
        "            gridwidth=1,\n",
        "            zerolinecolor=u'#444',\n",
        "            zerolinewidth=1,\n",
        "            linecolor=u'#444',\n",
        "            linewidth=1,\n",
        "            anchor=u'x',\n",
        "            overlaying=False,\n",
        "            position=0\n",
        "        ),\n",
        "        legend=Legend(\n",
        "            x=0.034375,\n",
        "            y=0.9740740740740741,\n",
        "            traceorder=u'normal',\n",
        "            font=Font(\n",
        "                family=u'',\n",
        "                size=0,\n",
        "                color=u''\n",
        "            ),\n",
        "            bgcolor=u'rgba(255, 255, 255, 0)',\n",
        "            bordercolor=u'rgba(68, 68, 68, 0)',\n",
        "            borderwidth=0,\n",
        "            xanchor=u'left',\n",
        "            yanchor=u'top'\n",
        "        ),\n",
        "        annotations=Annotations([\n",
        "            Annotation(\n",
        "                x=0.10000000000000005,\n",
        "                y=0.29999999999999993,\n",
        "                xref=u'paper',\n",
        "                yref=u'paper',\n",
        "                text=u'Source: <a href=\"http://en.wikipedia.org/wiki/List_o...',\n",
        "                showarrow=True,\n",
        "                font=Font(\n",
        "                    family=u'',\n",
        "                    size=0,\n",
        "                    color=u''\n",
        "                ),\n",
        "                xanchor=u'auto',\n",
        "                yanchor=u'auto',\n",
        "                align=u'center',\n",
        "                arrowhead=1,\n",
        "                arrowsize=1,\n",
        "                arrowwidth=0,\n",
        "                arrowcolor=u'rgba(68, 68, 68, 0)',\n",
        "                ax=-40,\n",
        "                ay=140.953125,\n",
        "                textangle=0,\n",
        "                bordercolor=u'',\n",
        "                borderwidth=1,\n",
        "                borderpad=1,\n",
        "                bgcolor=u'rgba(0,0,0,0)',\n",
        "                opacity=1\n",
        "            )\n",
        "        ]),\n",
        "        margin=Margin(\n",
        "            l=80,\n",
        "            r=80,\n",
        "            b=80,\n",
        "            t=100,\n",
        "            pad=0,\n",
        "            autoexpand=True\n",
        "        ),\n",
        "        paper_bgcolor=u'#fff',\n",
        "        plot_bgcolor=u'rgba(217, 217, 217, 0.15)',\n",
        "        hovermode=u'x',\n",
        "        dragmode=u'zoom',\n",
        "        separators=u'.,',\n",
        "        barmode=u'group',\n",
        "        bargap=0.2,\n",
        "        bargroupgap=0.05,\n",
        "        boxmode=u'overlay',\n",
        "        hidesources=False\n",
        "    )\n",
        ")\n"
       ]
      }
     ],
     "prompt_number": 3
    },
    {
     "cell_type": "heading",
     "level": 3,
     "metadata": {
      "slideshow": {
       "slide_type": "slide"
      }
     },
     "source": [
      "Remake this plot, with a few modifications"
     ]
    },
    {
     "cell_type": "code",
     "collapsed": false,
     "input": [
      "# Remove the Gaussian fit\n",
      "fig['data'][1].update(visible=False)\n",
      "\n",
      "# Increase the font size\n",
      "fig['layout']['font'].update(size=14)\n",
      "\n",
      "# Re-generate plot, get a unique URL\n",
      "py.plot(fig, filename=\"tug-conf-ex\")"
     ],
     "language": "python",
     "metadata": {
      "slideshow": {
       "slide_type": "fragment"
      }
     },
     "outputs": [
      {
       "metadata": {},
       "output_type": "pyout",
       "prompt_number": 4,
       "text": [
        "u'https://plot.ly/~etpinard/443'"
       ]
      }
     ],
     "prompt_number": 4
    },
    {
     "cell_type": "markdown",
     "metadata": {
      "slideshow": {
       "slide_type": "fragment"
      }
     },
     "source": [
      "Go to plot's [URL](https://plot.ly/~etpinard/443)"
     ]
    },
    {
     "cell_type": "markdown",
     "metadata": {
      "slideshow": {
       "slide_type": "slide"
      }
     },
     "source": [
      "..."
     ]
    },
    {
     "cell_type": "code",
     "collapsed": false,
     "input": [],
     "language": "python",
     "metadata": {},
     "outputs": [],
     "prompt_number": 4
    }
   ],
   "metadata": {}
  }
 ]
}